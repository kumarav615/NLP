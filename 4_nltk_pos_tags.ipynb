{
 "cells": [
  {
   "cell_type": "code",
   "execution_count": 1,
   "metadata": {},
   "outputs": [],
   "source": [
    "import nltk"
   ]
  },
  {
   "cell_type": "code",
   "execution_count": 2,
   "metadata": {},
   "outputs": [
    {
     "name": "stdout",
     "output_type": "stream",
     "text": [
      "Toekns:  ['Things', 'I', 'wish', 'I', 'knew', 'before', 'I', 'started', 'blogging', '.']\n"
     ]
    }
   ],
   "source": [
    "sentence = \"Things I wish I knew before I started blogging.\"\n",
    "tokens = nltk.word_tokenize(sentence)\n",
    "print(\"Toekns: \", tokens)"
   ]
  },
  {
   "cell_type": "code",
   "execution_count": 3,
   "metadata": {},
   "outputs": [],
   "source": [
    "tagged_tokens = nltk.pos_tag(tokens)"
   ]
  },
  {
   "cell_type": "code",
   "execution_count": 4,
   "metadata": {},
   "outputs": [
    {
     "name": "stdout",
     "output_type": "stream",
     "text": [
      "Tagged Tokens:  [('Things', 'NNS'), ('I', 'PRP'), ('wish', 'VBP'), ('I', 'PRP'), ('knew', 'VBD'), ('before', 'IN'), ('I', 'PRP'), ('started', 'VBD'), ('blogging', 'VBG'), ('.', '.')]\n"
     ]
    }
   ],
   "source": [
    "print(\"Tagged Tokens: \", tagged_tokens)"
   ]
  },
  {
   "cell_type": "code",
   "execution_count": 5,
   "metadata": {},
   "outputs": [],
   "source": [
    "# Named Entity Recognition is known as POS tagging\n",
    "sentence = \"\"\"The closing chapter, is adapted from the \n",
    "              address that Feynman gave during the 1974 commencement \n",
    "              exercises at the California Institute of Technology. \"\"\"\n",
    "\n",
    "tokens = nltk.word_tokenize(sentence)\n",
    "tagged_tokens = nltk.pos_tag(tokens)\n",
    "ner_annotated_tree = nltk.ne_chunk(tagged_tokens)"
   ]
  },
  {
   "cell_type": "code",
   "execution_count": 7,
   "metadata": {},
   "outputs": [
    {
     "name": "stdout",
     "output_type": "stream",
     "text": [
      "(S\n",
      "  The/DT\n",
      "  closing/NN\n",
      "  chapter/NN\n",
      "  ,/,\n",
      "  is/VBZ\n",
      "  adapted/VBN\n",
      "  from/IN\n",
      "  the/DT\n",
      "  address/NN\n",
      "  that/IN\n",
      "  (PERSON Feynman/NNP)\n",
      "  gave/VBD\n",
      "  during/IN\n",
      "  the/DT\n",
      "  1974/CD\n",
      "  commencement/NN\n",
      "  exercises/NNS\n",
      "  at/IN\n",
      "  the/DT\n",
      "  (ORGANIZATION California/NNP Institute/NNP)\n",
      "  of/IN\n",
      "  (GPE Technology/NNP)\n",
      "  ./.)\n"
     ]
    }
   ],
   "source": [
    "print(ner_annotated_tree)"
   ]
  },
  {
   "cell_type": "code",
   "execution_count": 9,
   "metadata": {},
   "outputs": [],
   "source": [
    "# Drawing a nltk.Tree\n",
    "sentence = \"\"\"Jim goes to Harvard. \"\"\"\n",
    "tokens = nltk.word_tokenize(sentence)\n",
    "tagges_tokens = nltk.pos_tag(tokens)\n",
    "ner_annotated_tree = nltk.ne_chunk(tagged_tokens)\n",
    "ner_annotated_tree.draw()"
   ]
  }
 ],
 "metadata": {
  "kernelspec": {
   "display_name": "Python 3",
   "language": "python",
   "name": "python3"
  },
  "language_info": {
   "codemirror_mode": {
    "name": "ipython",
    "version": 3
   },
   "file_extension": ".py",
   "mimetype": "text/x-python",
   "name": "python",
   "nbconvert_exporter": "python",
   "pygments_lexer": "ipython3",
   "version": "3.7.3"
  }
 },
 "nbformat": 4,
 "nbformat_minor": 2
}

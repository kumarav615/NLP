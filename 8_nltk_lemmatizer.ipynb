{
 "cells": [
  {
   "cell_type": "code",
   "execution_count": 1,
   "metadata": {},
   "outputs": [],
   "source": [
    "from nltk.stem import WordNetLemmatizer"
   ]
  },
  {
   "cell_type": "code",
   "execution_count": 2,
   "metadata": {},
   "outputs": [],
   "source": [
    "lemmatizer = WordNetLemmatizer()"
   ]
  },
  {
   "cell_type": "code",
   "execution_count": 3,
   "metadata": {},
   "outputs": [
    {
     "name": "stdout",
     "output_type": "stream",
     "text": [
      "haunting\n",
      "haunt\n"
     ]
    }
   ],
   "source": [
    "#Different parts of speech with the same form\n",
    "print(lemmatizer.lemmatize('haunting', 'n'))\n",
    "print(lemmatizer.lemmatize('haunting', 'v'))"
   ]
  },
  {
   "cell_type": "code",
   "execution_count": 4,
   "metadata": {},
   "outputs": [
    {
     "name": "stdout",
     "output_type": "stream",
     "text": [
      "friend\n",
      "friend\n"
     ]
    }
   ],
   "source": [
    "# resolving to friend\n",
    "print(lemmatizer.lemmatize('friend', 'n'))\n",
    "print(lemmatizer.lemmatize('friends', 'n'))"
   ]
  },
  {
   "cell_type": "code",
   "execution_count": 5,
   "metadata": {},
   "outputs": [
    {
     "name": "stdout",
     "output_type": "stream",
     "text": [
      "friendly\n"
     ]
    }
   ],
   "source": [
    "# Resolving to friendly due to different part of speech\n",
    "print(lemmatizer.lemmatize('friendly', 'a'))"
   ]
  },
  {
   "cell_type": "code",
   "execution_count": 6,
   "metadata": {},
   "outputs": [
    {
     "name": "stdout",
     "output_type": "stream",
     "text": [
      "drink\n",
      "drink\n"
     ]
    }
   ],
   "source": [
    "#working well with irregulars\n",
    "print(lemmatizer.lemmatize('drink', 'v'))\n",
    "print(lemmatizer.lemmatize('drunk', 'v'))"
   ]
  },
  {
   "cell_type": "code",
   "execution_count": 8,
   "metadata": {},
   "outputs": [
    {
     "name": "stdout",
     "output_type": "stream",
     "text": [
      "slowly\n"
     ]
    }
   ],
   "source": [
    "#Always proper word\n",
    "print(lemmatizer.lemmatize('slowly', 'r'))"
   ]
  },
  {
   "cell_type": "code",
   "execution_count": 9,
   "metadata": {},
   "outputs": [
    {
     "name": "stdout",
     "output_type": "stream",
     "text": [
      "xyzing\n"
     ]
    }
   ],
   "source": [
    "# not working well with non-existing words\n",
    "print(lemmatizer.lemmatize('xyzing', 'v'))"
   ]
  }
 ],
 "metadata": {
  "kernelspec": {
   "display_name": "Python 3",
   "language": "python",
   "name": "python3"
  },
  "language_info": {
   "codemirror_mode": {
    "name": "ipython",
    "version": 3
   },
   "file_extension": ".py",
   "mimetype": "text/x-python",
   "name": "python",
   "nbconvert_exporter": "python",
   "pygments_lexer": "ipython3",
   "version": "3.7.3"
  }
 },
 "nbformat": 4,
 "nbformat_minor": 2
}
